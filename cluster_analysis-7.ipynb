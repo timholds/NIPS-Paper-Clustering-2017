{
 "cells": [
  {
   "cell_type": "markdown",
   "metadata": {},
   "source": [
    "[home](http://www.brandonrose.org)"
   ]
  },
  {
   "cell_type": "markdown",
   "metadata": {},
   "source": [
    "# Document Clustering with Python"
   ]
  },
  {
   "cell_type": "markdown",
   "metadata": {},
   "source": [
    "<img src='header_short.jpg'>\n",
    "\n",
    "In this guide, I will explain how to cluster a set of documents using Python. My motivating example is to identify the latent structures within the synopses of the top 100 films of all time (per an IMDB list). See [the original post](http://www.brandonrose.org/top100) for a more detailed discussion on the example. This guide covers:\n",
    "\n",
    "<ul>\n",
    "<li> tokenizing and stemming each synopsis\n",
    "<li> transforming the corpus into vector space using [tf-idf](http://en.wikipedia.org/wiki/Tf%E2%80%93idf)\n",
    "<li> calculating cosine distance between each document as a measure of similarity\n",
    "<li> clustering the documents using the [k-means algorithm](http://en.wikipedia.org/wiki/K-means_clustering)\n",
    "<li> using [multidimensional scaling](http://en.wikipedia.org/wiki/Multidimensional_scaling) to reduce dimensionality within the corpus\n",
    "<li> plotting the clustering output using [matplotlib](http://matplotlib.org/) and [mpld3](http://mpld3.github.io/)\n",
    "<li> conducting a hierarchical clustering on the corpus using [Ward clustering](http://en.wikipedia.org/wiki/Ward%27s_method)\n",
    "<li> plotting a Ward dendrogram\n",
    "<li> topic modeling using [Latent Dirichlet Allocation (LDA)](http://en.wikipedia.org/wiki/Latent_Dirichlet_allocation)\n",
    "</ul>"
   ]
  },
  {
   "cell_type": "markdown",
   "metadata": {},
   "source": [
    "## Contents"
   ]
  },
  {
   "cell_type": "markdown",
   "metadata": {},
   "source": [
    "<ul>\n",
    "<li>[Stopwords, stemming, and tokenization](#Stopwords,-stemming,-and-tokenizing)\n",
    "<li>[Tf-idf and document similarity](#Tf-idf-and-document-similarity)\n",
    "<li>[K-means clustering](#K-means-clustering)\n",
    "<li>[Multidimensional scaling](#Multidimensional-scaling)\n",
    "<li>[Visualizing document clusters](#Visualizing-document-clusters)\n",
    "<li>[Hierarchical document clustering](#Hierarchical-document-clustering)\n",
    "<li>[Latent Dirichlet Allocation (LDA)](#Latent-Dirichlet-Allocation)\n",
    "</ul>"
   ]
  },
  {
   "cell_type": "markdown",
   "metadata": {},
   "source": [
    "But first, I import everything I am going to need up front"
   ]
  },
  {
   "cell_type": "code",
   "execution_count": 526,
   "metadata": {
    "collapsed": false
   },
   "outputs": [],
   "source": [
    "import numpy as np\n",
    "import pandas as pd\n",
    "import nltk\n",
    "from bs4 import BeautifulSoup\n",
    "import re\n",
    "import os\n",
    "import codecs\n",
    "from sklearn import feature_extraction\n",
    "import mpld3"
   ]
  },
  {
   "cell_type": "markdown",
   "metadata": {},
   "source": [
    "# Stopwords, stemming, and tokenizing"
   ]
  },
  {
   "cell_type": "code",
   "execution_count": 527,
   "metadata": {
    "collapsed": false
   },
   "outputs": [
    {
     "name": "stdout",
     "output_type": "stream",
     "text": [
      "(567, 3)\n"
     ]
    }
   ],
   "source": [
    "df_dirty = pd.read_csv('Papers-titles-abstracts.csv')\n",
    "df_dirty = df_dirty.drop(['Unnamed: 0'], axis=1)\n",
    "df = df_dirty[df_dirty['Abstracts'].notnull()]\n",
    "print(df.shape)"
   ]
  },
  {
   "cell_type": "code",
   "execution_count": 528,
   "metadata": {
    "collapsed": false
   },
   "outputs": [],
   "source": [
    "titles = df.loc[:, 'Titles'].tolist()\n",
    "abstracts = df.loc[:, 'Abstracts'].tolist()\n",
    "\n",
    "abstracts_titles = [\"{} {}\".format(titles_, abstracts_) for titles_, abstracts_ in zip(titles, abstracts)]"
   ]
  },
  {
   "cell_type": "markdown",
   "metadata": {},
   "source": [
    "This section is focused on defining some functions to manipulate the synopses. First, I load [NLTK's](http://www.nltk.org/) list of English stop words. [Stop words](http://en.wikipedia.org/wiki/Stop_words) are words like \"a\", \"the\", or \"in\" which don't convey significant meaning. I'm sure there are much better explanations of this out there."
   ]
  },
  {
   "cell_type": "code",
   "execution_count": 563,
   "metadata": {
    "collapsed": false
   },
   "outputs": [],
   "source": [
    "# load nltk's English stopwords as variable called 'stopwords'\n",
    "stopwords = nltk.corpus.stopwords.words('english')\n",
    "\n",
    "# Add words that will later get added to terms but are not useful for clustering to stopwords\n",
    "unneeded_words = ['first', 'interesting', 'features', 'multiple', 'develop', 'improv', 'often', 'one', 'studi', 'distributed', 'distribut', \n",
    "                  'system', 'via', 'well', 'without', 'also', 'due', 'give', 'across', 'dataset',\n",
    "                  'adapt', 'time', 'call', 'comput', 'cost', 'error', 'loss', 'data', 'deep', 'thus',\n",
    "                  'within', 'evaluate', 'may', 'often' 'introduc', 'obtain', 'abl', 'oper', 'two',\n",
    "                  'effect', 'new', 'experiment', 'produc', 'specif', 'measur', 'general', \n",
    "                  'framework', 'natur', 'case', 'real', 'interpret', 'ani', 'network', 'given',\n",
    "                  'properti', 'valu', 'guarante', 'strategi', 'show', 'times', 'make', \n",
    "                  'state-of-the-art', 'inform', 'function', 'design', 'assumpt', 'process', \n",
    "                  'simul', 'regular', 'method', 'improvinput', 'better', 'need', \n",
    "                  'analysi', 'sampl', 'propos', 'singl', 'consid', 'exist', 'known', \n",
    "                  'real-world', 'accuraci', 'focus', 'algorithm', 'exampl', 'challeng', \n",
    "                  'recent', 'provid', 'object', 'solv', 'power', 'perform', 'consist', 'lead',\n",
    "                  'sever', 'solut', 'simpl', 'task', 'base', 'deep learn', 'step', 'train', \n",
    "                  'machin', 'key', 'achiev', 'various', 'test', 'condit', \"'s\", 'larg', 'complex',\n",
    "                  'architectur', 'allow', 'point', 'standard', 'accur', 'techniqu', 'import', \n",
    "                  'match', 'demonstr', 'present', 'space', 'model', 'set', 'domain', 'final',\n",
    "                  'structur', 'address', 'robust', 'includ', 'possibl', 'paper propos', 'term',\n",
    "                  'form', 'neural', 'depend', 'experi', 'addit', 'extens', 'formul', 'learn',\n",
    "                  'use', 'approach', 'prove', 'differ', 'paper', 'captur', 'effici', 'best', \n",
    "                  'appli', 'limit', 'previous', 'particular', 'high', 'result', 'applic', 'order',\n",
    "                  'rate', 'novel', 'signific', 'benchmark', 'success', 'state', 'requir', 'strong',\n",
    "                  'factor', 'exploit', 'number', 'common', 'analyz', 'practic', 'outperform', \n",
    "                  'howev', 'sequenc', 'popular', 'work', 'enabl', 'problem', 'output']\n",
    "\n",
    "unneeded_words2 = ['abl', \"'s\", 'accuraci', 'achiev', 'addit', 'address', 'algorithm', 'allow', \n",
    "                 'analysi', 'analyz', 'ani', 'appli', 'applic', 'approach', 'challeng', \n",
    "                 'architectur', 'assumpt', 'base', 'benchmark', 'best', 'better', 'bound', 'case',\n",
    "                 'common', 'compar', 'complex', 'comput', 'condit', 'consid', 'consist''accuraci', \n",
    "                 'address', 'allow', 'analyz', 'appli', 'approach', 'assumpt',\n",
    "                 'consid', 'demonstr', 'effici', 'exist', 'experiment', 'extens',\n",
    "                 'focus', 'formul', 'function', 'high', 'improv' 'input', 'introduc', 'known',\n",
    "                 'learn', 'match', 'method', 'need', 'network',\n",
    "                 'neural', 'novel', 'object', 'observ', 'outperform', 'paper', 'perform', 'prove',\n",
    "                 'possibl', 'practic', 'previous', 'process', 'properti', 'real', 'recent', 'result', \n",
    "                 'set', 'signific', 'simul', 'solut', 'space', 'standard', 'state-of-the-art', 'strong',\n",
    "                 'techniqu', 'test', 'use']\n",
    "\n",
    "not_needed_words_list = list(set(unneeded_words + unneeded_words2))\n",
    "\n",
    "for item in not_needed_words_list:\n",
    "    stopwords.append(item)"
   ]
  },
  {
   "cell_type": "markdown",
   "metadata": {},
   "source": [
    "Next I import the [Snowball Stemmer](http://snowball.tartarus.org/) which is actually part of NLTK. [Stemming](http://en.wikipedia.org/wiki/Stemming) is just the process of breaking a word down into its root."
   ]
  },
  {
   "cell_type": "code",
   "execution_count": 564,
   "metadata": {
    "collapsed": false
   },
   "outputs": [],
   "source": [
    "# load nltk's SnowballStemmer as variabled 'stemmer'\n",
    "from nltk.stem.snowball import SnowballStemmer\n",
    "stemmer = SnowballStemmer(\"english\")"
   ]
  },
  {
   "cell_type": "markdown",
   "metadata": {},
   "source": [
    "\n",
    "Below I define two functions:\n",
    "\n",
    "<ul>\n",
    "<li> *tokenize_and_stem*: tokenizes (splits the synopsis into a list of its respective words (or tokens) and also stems each token <li> *tokenize_only*: tokenizes the synopsis only\n",
    "</ul>\n",
    "\n",
    "I use both these functions to create a dictionary which becomes important in case I want to use stems for an algorithm, but later convert stems back to their full words for presentation purposes. Guess what, I do want to do that!\n",
    "\n"
   ]
  },
  {
   "cell_type": "code",
   "execution_count": 565,
   "metadata": {
    "collapsed": false
   },
   "outputs": [],
   "source": [
    "# here I define a tokenizer and stemmer which returns the set of stems in the text that it is passed\n",
    "\n",
    "def tokenize_and_stem(text):\n",
    "    # first tokenize by sentence, then by word to ensure that punctuation is caught as it's own token\n",
    "    tokens = [word for sent in nltk.sent_tokenize(text) for word in nltk.word_tokenize(sent)]\n",
    "    filtered_tokens = []\n",
    "    # filter out any tokens not containing letters (e.g., numeric tokens, raw punctuation)\n",
    "    for token in tokens:\n",
    "        if re.search('[a-zA-Z]', token):\n",
    "            filtered_tokens.append(token)\n",
    "    stems = [stemmer.stem(t) for t in filtered_tokens]\n",
    "    return stems\n",
    "\n",
    "    \n",
    "def tokenize_only(text):\n",
    "    # first tokenize by sentence, then by word to ensure that punctuation is caught as it's own token\n",
    "    tokens = [word.lower() for sent in nltk.sent_tokenize(text) for word in nltk.word_tokenize(sent)]\n",
    "    filtered_tokens = []\n",
    "    # filter out any tokens not containing letters (e.g., numeric tokens, raw punctuation)\n",
    "    for token in tokens:\n",
    "        if re.search('[a-zA-Z]', token):\n",
    "            filtered_tokens.append(token)\n",
    "    return filtered_tokens"
   ]
  },
  {
   "cell_type": "markdown",
   "metadata": {},
   "source": [
    "Below I use my stemming/tokenizing and tokenizing functions to iterate over the list of synopses to create two vocabularies: one stemmed and one only tokenized. "
   ]
  },
  {
   "cell_type": "code",
   "execution_count": 566,
   "metadata": {
    "collapsed": false
   },
   "outputs": [],
   "source": [
    "totalvocab_stemmed = []\n",
    "totalvocab_tokenized = []\n",
    "for i in abstracts_titles:\n",
    "    allwords_stemmed = tokenize_and_stem(i)\n",
    "    totalvocab_stemmed.extend(allwords_stemmed)\n",
    "    \n",
    "    allwords_tokenized = tokenize_only(i)\n",
    "    totalvocab_tokenized.extend(allwords_tokenized)"
   ]
  },
  {
   "cell_type": "markdown",
   "metadata": {},
   "source": [
    "Using these two lists, I create a pandas DataFrame with the stemmed vocabulary as the index and the tokenized words as the column. The benefit of this is it provides an efficient way to look up a stem and return a full token. The downside here is that stems to tokens are one to many: the stem 'run' could be associated with 'ran', 'runs', 'running', etc. For my purposes this is fine--I'm perfectly happy returning the first token associated with the stem I need to look up."
   ]
  },
  {
   "cell_type": "code",
   "execution_count": 567,
   "metadata": {
    "collapsed": false
   },
   "outputs": [],
   "source": [
    "vocab_frame = pd.DataFrame({'words': totalvocab_tokenized}, index = totalvocab_stemmed)\n",
    "#print(vocab_frame)"
   ]
  },
  {
   "cell_type": "markdown",
   "metadata": {},
   "source": [
    "## Tf-idf and document similarity"
   ]
  },
  {
   "cell_type": "markdown",
   "metadata": {},
   "source": [
    "<img src='http://www.jiem.org/index.php/jiem/article/viewFile/293/252/2402' align='right' style=\"margin-left:10px\">\n",
    "\n",
    "Here, I define term frequency-inverse document frequency (tf-idf) vectorizer parameters and then convert the *synopses* list into a tf-idf matrix. \n",
    "\n",
    "To get a Tf-idf matrix, first count word occurrences by document. This is transformed into a document-term matrix (dtm). This is also just called a term frequency matrix. An example of a dtm is here at right.\n",
    "\n",
    "Then apply the term frequency-inverse document frequency weighting: words that occur frequently within a document but not frequently within the corpus receive a higher weighting as these words are assumed to contain more meaning in relation to the document.\n",
    "\n",
    "A couple things to note about the parameters I define below:\n",
    "\n",
    "<ul>\n",
    "<li> max_df: this is the maximum frequency within the documents a given feature can have to be used in the tfi-idf matrix. If the term is in greater than 80% of the documents it probably cares little meanining (in the context of film synopses)\n",
    "<li> min_idf: this could be an integer (e.g. 5) and the term would have to be in at least 5 of the documents to be considered. Here I pass 0.2; the term must be in at least 20% of the document. I found that if I allowed a lower min_df I ended up basing clustering on names--for example \"Michael\" or \"Tom\" are names found in several of the movies and the synopses use these names frequently, but the names carry no real meaning.\n",
    "<li> ngram_range: this just means I'll look at unigrams, bigrams and trigrams. See [n-grams](http://en.wikipedia.org/wiki/N-gram)\n",
    "</ul>"
   ]
  },
  {
   "cell_type": "code",
   "execution_count": 568,
   "metadata": {
    "collapsed": false
   },
   "outputs": [
    {
     "name": "stdout",
     "output_type": "stream",
     "text": [
      "CPU times: user 5.88 s, sys: 67.8 ms, total: 5.94 s\n",
      "Wall time: 7.63 s\n",
      "(567, 75)\n"
     ]
    }
   ],
   "source": [
    "#nltk.download('punkt')\n",
    "from sklearn.feature_extraction.text import TfidfVectorizer\n",
    "\n",
    "tfidf_vectorizer = TfidfVectorizer(max_df=.8, max_features=1000,\n",
    "                                 min_df=0.065, stop_words=stopwords,\n",
    "                                 use_idf=True, tokenizer=tokenize_and_stem, ngram_range=(1,2))\n",
    "\n",
    "%time tfidf_matrix = tfidf_vectorizer.fit_transform(abstracts_titles)\n",
    "\n",
    "print(tfidf_matrix.shape)\n",
    "\n",
    "# Data mining people's twitter likes to suggest to myself new people who I should follow\n",
    "# Train a NN based on my own twitter likes to get custom reccomendations\n",
    "#print(tfidf_matrix)"
   ]
  },
  {
   "cell_type": "code",
   "execution_count": 569,
   "metadata": {
    "collapsed": false,
    "scrolled": true
   },
   "outputs": [
    {
     "name": "stdout",
     "output_type": "stream",
     "text": [
      "Length of terms 75\n",
      "['adversari', 'altern', 'approxim', 'bayesian', 'class', 'classic', 'classif', 'combin', 'construct', 'continu', 'control', 'converg', 'convex', 'convolut', 'defin', 'deriv', 'descent', 'direct', 'dynam', 'empir', 'estim', 'evalu', 'even', 'extend', 'featur', 'find', 'gaussian', 'generat', 'gradient', 'graph', 'imag', 'infer', 'input', 'interest', 'joint', 'kernel', 'label', 'latent', 'layer', 'leverag', 'linear', 'local', 'lower', 'mani', 'minim', 'multipl', 'numer', 'onli', 'optim', 'paramet', 'polici', 'predict', 'prior', 'probabl', 'random', 'reduc', 'regress', 'reinforc', 'relat', 'represent', 'scale', 'similar', 'small', 'statist', 'stochast', 'synthet', 'theoret', 'three', 'type', 'typic', 'variabl', 'variant', 'variat', 'weight', 'wide']\n"
     ]
    }
   ],
   "source": [
    "terms = tfidf_vectorizer.get_feature_names()\n",
    "print('Length of terms ' + str(len(terms)))\n",
    "print(terms)"
   ]
  },
  {
   "cell_type": "code",
   "execution_count": 570,
   "metadata": {
    "collapsed": false
   },
   "outputs": [],
   "source": [
    "from sklearn.metrics.pairwise import cosine_similarity\n",
    "dist = 1 - cosine_similarity(tfidf_matrix)"
   ]
  },
  {
   "cell_type": "markdown",
   "metadata": {},
   "source": [
    "# K-means clustering"
   ]
  },
  {
   "cell_type": "markdown",
   "metadata": {},
   "source": [
    "Now onto the fun part. Using the tf-idf matrix, you can run a slew of clustering algorithms to better understand the hidden structure within the synopses. I first chose [k-means](http://en.wikipedia.org/wiki/K-means_clustering). K-means initializes with a pre-determined number of clusters (I chose 5). Each observation is assigned to a cluster (cluster assignment) so as to minimize the within cluster sum of squares. Next, the mean of the clustered observations is calculated and used as the new cluster centroid. Then, observations are reassigned to clusters and  centroids recalculated in an iterative process until the algorithm reaches convergence.\n",
    "\n",
    "I found it took several runs for the algorithm to converge a global optimum as k-means is susceptible to reaching local optima. "
   ]
  },
  {
   "cell_type": "code",
   "execution_count": 571,
   "metadata": {
    "collapsed": true
   },
   "outputs": [],
   "source": [
    "# generates index for each item in the corpora (in this case it's just rank) and I'll use this for scoring later\n",
    "ranks = []\n",
    "\n",
    "for i in range(0,len(titles)):\n",
    "    ranks.append(i)"
   ]
  },
  {
   "cell_type": "code",
   "execution_count": 587,
   "metadata": {
    "collapsed": false
   },
   "outputs": [
    {
     "name": "stdout",
     "output_type": "stream",
     "text": [
      "CPU times: user 859 ms, sys: 8.06 ms, total: 867 ms\n",
      "Wall time: 1.04 s\n"
     ]
    }
   ],
   "source": [
    "from sklearn.cluster import KMeans\n",
    "num_clusters = 7\n",
    "km = KMeans(n_clusters=num_clusters)\n",
    "\n",
    "%time km.fit(tfidf_matrix)\n",
    "\n",
    "clusters = km.labels_.tolist()"
   ]
  },
  {
   "cell_type": "code",
   "execution_count": 588,
   "metadata": {
    "collapsed": false
   },
   "outputs": [],
   "source": [
    "from sklearn.externals import joblib\n",
    "\n",
    "joblib.dump(km,  'doc_cluster.pkl')\n",
    "km = joblib.load('doc_cluster.pkl')\n",
    "clusters = km.labels_.tolist()"
   ]
  },
  {
   "cell_type": "code",
   "execution_count": 589,
   "metadata": {
    "collapsed": true
   },
   "outputs": [],
   "source": [
    "import pandas as pd\n",
    "\n",
    "papers = { 'title': titles, 'rank': ranks, 'abstracts_titles': abstracts_titles, 'cluster': clusters}\n",
    "#films = { 'title': titles, 'rank': ranks, 'synopsis': synopses, 'cluster': clusters, 'genre': genres }\n",
    "\n",
    "frame = pd.DataFrame(papers, index = [clusters] , columns = ['rank', 'title', 'cluster'])\n",
    "#frame = pd.DataFrame(films, index = [clusters] , columns = ['rank', 'title', 'cluster', 'genre'])"
   ]
  },
  {
   "cell_type": "code",
   "execution_count": 590,
   "metadata": {
    "collapsed": false
   },
   "outputs": [
    {
     "data": {
      "text/plain": [
       "2    212\n",
       "1     95\n",
       "3     87\n",
       "0     54\n",
       "4     47\n",
       "5     41\n",
       "6     31\n",
       "Name: cluster, dtype: int64"
      ]
     },
     "execution_count": 590,
     "metadata": {},
     "output_type": "execute_result"
    }
   ],
   "source": [
    "frame['cluster'].value_counts()"
   ]
  },
  {
   "cell_type": "code",
   "execution_count": 591,
   "metadata": {
    "collapsed": false
   },
   "outputs": [],
   "source": [
    "######### This box doesn't make sense without having a rank column\n",
    "grouped = frame['rank'].groupby(frame['cluster'])\n",
    "\n",
    "#grouped.mean()"
   ]
  },
  {
   "cell_type": "code",
   "execution_count": 594,
   "metadata": {
    "collapsed": false,
    "scrolled": false
   },
   "outputs": [
    {
     "name": "stdout",
     "output_type": "stream",
     "text": [
      "Top terms per cluster:\n",
      "\n",
      "Cluster 1 words:\n",
      " b'generative', b'adversarial', b'image', b'label', b'converge',\n",
      "\n",
      "Cluster 2 words:\n",
      " b'predicts', b'linear', b'label', b'regression', b'classification',\n",
      "\n",
      "Cluster 3 words:\n",
      " b'inference', b'approximation', b'representations', b'graphs', b'features',\n",
      "\n",
      "Cluster 4 words:\n",
      " b'optimized', b'gradient', b'converge', b'descent', b'convex',\n",
      "\n",
      "Cluster 5 words:\n",
      " b'estimation', b'variables', b'statistics', b'parameters', b'converge',\n",
      "\n",
      "Cluster 6 words:\n",
      " b'image', b'convolutional', b'representations', b'input', b'similar',\n",
      "\n",
      "Cluster 7 words:\n",
      " b'policy', b'reinforcement', b'gradient', b'optimized', b'approximation',\n",
      "\n"
     ]
    }
   ],
   "source": [
    "from __future__ import print_function\n",
    "\n",
    "# How can I make this so each term only shows up once in all of the clusters\n",
    "print(\"Top terms per cluster:\")\n",
    "print()\n",
    "\n",
    "order_centroids = km.cluster_centers_.argsort()[:, ::-1]\n",
    "\n",
    "for i in range(num_clusters):\n",
    "    print(\"Cluster %d words:\" % (i+1), end='')\n",
    "    print()\n",
    "    # Ind should range between 0 and 65, since there are 66 terms after editing terms\n",
    "    for ind in order_centroids[i, :5]:\n",
    "        try:\n",
    "            print(' %s' % vocab_frame.loc[terms[ind].split(' ')].values.tolist()[0][0].encode('utf-8', 'ignore'), end=',')\n",
    "        except IndexError:\n",
    "            print('IndexError')\n",
    "            pass\n",
    "    #print(len(frame['title'].values.tolist()))\n",
    "    print()\n",
    "    \n",
    "    \"\"\"\n",
    "    print()\n",
    "    print(\"Cluster %d titles:\" % i, end='')\n",
    "    for title in frame['title'].values.tolist():\n",
    "        print(' %s,' % title, end='')\n",
    "    print()\n",
    "    \"\"\"\n",
    "    \n",
    "    \n",
    "    print()"
   ]
  },
  {
   "cell_type": "code",
   "execution_count": 595,
   "metadata": {
    "collapsed": false
   },
   "outputs": [],
   "source": [
    "#This is purely to help export tables to html and to correct for my 0 start rank (so that Godfather is 1, not 0)\n",
    "frame['Rank'] = frame['rank'] + 1\n",
    "frame['Title'] = frame['title']"
   ]
  },
  {
   "cell_type": "code",
   "execution_count": 596,
   "metadata": {
    "collapsed": false
   },
   "outputs": [
    {
     "name": "stdout",
     "output_type": "stream",
     "text": [
      "<table border=\"1\" class=\"dataframe\">\n",
      "  <thead>\n",
      "    <tr style=\"text-align: right;\">\n",
      "      <th>Rank</th>\n",
      "      <th>Title</th>\n",
      "    </tr>\n",
      "  </thead>\n",
      "  <tbody>\n",
      "    <tr>\n",
      "      <td>1</td>\n",
      "      <td>Learning Active Learning from Data</td>\n",
      "    </tr>\n",
      "    <tr>\n",
      "      <td>3</td>\n",
      "      <td>Active Learning from Peers</td>\n",
      "    </tr>\n",
      "    <tr>\n",
      "      <td>5</td>\n",
      "      <td>Consistent Multitask Learning with Nonlinear O...</td>\n",
      "    </tr>\n",
      "    <tr>\n",
      "      <td>7</td>\n",
      "      <td>Label Efficient Learning of Transferable Repre...</td>\n",
      "    </tr>\n",
      "    <tr>\n",
      "      <td>8</td>\n",
      "      <td>Matching neural paths: transfer from recogniti...</td>\n",
      "    </tr>\n",
      "    <tr>\n",
      "      <td>13</td>\n",
      "      <td>PRUNE: Preserving Proximity and Global Ranking...</td>\n",
      "    </tr>\n",
      "    <tr>\n",
      "      <td>18</td>\n",
      "      <td>Unsupervised Sequence Classification using Seq...</td>\n",
      "    </tr>\n",
      "    <tr>\n",
      "      <td>19</td>\n",
      "      <td>Context Selection for Embedding Models</td>\n",
      "    </tr>\n",
      "    <tr>\n",
      "      <td>24</td>\n",
      "      <td>Adaptive Classification for Prediction Under a...</td>\n",
      "    </tr>\n",
      "    <tr>\n",
      "      <td>26</td>\n",
      "      <td>Aggressive Sampling for Multi-class to Binary ...</td>\n",
      "    </tr>\n",
      "    <tr>\n",
      "      <td>27</td>\n",
      "      <td>Adversarial Surrogate Losses for Ordinal Regre...</td>\n",
      "    </tr>\n",
      "    <tr>\n",
      "      <td>29</td>\n",
      "      <td>Cost efficient gradient boosting</td>\n",
      "    </tr>\n",
      "    <tr>\n",
      "      <td>39</td>\n",
      "      <td>Multi-way Interacting Regression via Factoriza...</td>\n",
      "    </tr>\n",
      "    <tr>\n",
      "      <td>40</td>\n",
      "      <td>Maximum Margin Interval Trees</td>\n",
      "    </tr>\n",
      "    <tr>\n",
      "      <td>44</td>\n",
      "      <td>Predictive State Recurrent Neural Networks</td>\n",
      "    </tr>\n",
      "    <tr>\n",
      "      <td>52</td>\n",
      "      <td>k-Support and Ordered Weighted Sparsity for Ov...</td>\n",
      "    </tr>\n",
      "    <tr>\n",
      "      <td>53</td>\n",
      "      <td>Parametric Simplex Method for Sparse Learning</td>\n",
      "    </tr>\n",
      "    <tr>\n",
      "      <td>55</td>\n",
      "      <td>Efficient Approximation Algorithms for Strings...</td>\n",
      "    </tr>\n",
      "    <tr>\n",
      "      <td>61</td>\n",
      "      <td>The Neural Hawkes Process: A Neurally Self-Mod...</td>\n",
      "    </tr>\n",
      "    <tr>\n",
      "      <td>74</td>\n",
      "      <td>Attend and Predict: Understanding Gene Regulat...</td>\n",
      "    </tr>\n",
      "    <tr>\n",
      "      <td>77</td>\n",
      "      <td>Analyzing Hidden Representations in End-to-End...</td>\n",
      "    </tr>\n",
      "    <tr>\n",
      "      <td>105</td>\n",
      "      <td>PredRNN: Recurrent Neural Networks for Predict...</td>\n",
      "    </tr>\n",
      "    <tr>\n",
      "      <td>106</td>\n",
      "      <td>VAIN: Attentional Multi-agent Predictive Modeling</td>\n",
      "    </tr>\n",
      "    <tr>\n",
      "      <td>108</td>\n",
      "      <td>Prototypical Networks for Few-shot Learning</td>\n",
      "    </tr>\n",
      "    <tr>\n",
      "      <td>109</td>\n",
      "      <td>Few-Shot Learning Through an Information Retri...</td>\n",
      "    </tr>\n",
      "    <tr>\n",
      "      <td>112</td>\n",
      "      <td>Learning Efficient Object Detection Models wit...</td>\n",
      "    </tr>\n",
      "    <tr>\n",
      "      <td>113</td>\n",
      "      <td>Decoupling \"when to update\" from \"how to update\"</td>\n",
      "    </tr>\n",
      "    <tr>\n",
      "      <td>120</td>\n",
      "      <td>Toward Robustness against Label Noise in Train...</td>\n",
      "    </tr>\n",
      "    <tr>\n",
      "      <td>122</td>\n",
      "      <td>Selective Classification for Deep Neural Networks</td>\n",
      "    </tr>\n",
      "    <tr>\n",
      "      <td>123</td>\n",
      "      <td>Deep Lattice Networks and Partial Monotonic Fu...</td>\n",
      "    </tr>\n",
      "    <tr>\n",
      "      <td>124</td>\n",
      "      <td>Learning to Prune Deep Neural Networks via Lay...</td>\n",
      "    </tr>\n",
      "    <tr>\n",
      "      <td>149</td>\n",
      "      <td>Large-Scale Quadratically Constrained Quadrati...</td>\n",
      "    </tr>\n",
      "    <tr>\n",
      "      <td>155</td>\n",
      "      <td>Efficient Use of Limited-Memory Accelerators f...</td>\n",
      "    </tr>\n",
      "    <tr>\n",
      "      <td>166</td>\n",
      "      <td>Bayesian Dyadic Trees and Histograms for  Regr...</td>\n",
      "    </tr>\n",
      "    <tr>\n",
      "      <td>168</td>\n",
      "      <td>When Worlds Collide: Integrating Different Cou...</td>\n",
      "    </tr>\n",
      "    <tr>\n",
      "      <td>170</td>\n",
      "      <td>Expectation Propagation for t-Exponential Fami...</td>\n",
      "    </tr>\n",
      "    <tr>\n",
      "      <td>174</td>\n",
      "      <td>Scalable Levy Process Priors for Spectral Kern...</td>\n",
      "    </tr>\n",
      "    <tr>\n",
      "      <td>182</td>\n",
      "      <td>Value Prediction Network</td>\n",
      "    </tr>\n",
      "    <tr>\n",
      "      <td>186</td>\n",
      "      <td>Noise-Tolerant Interactive Learning Using Pair...</td>\n",
      "    </tr>\n",
      "    <tr>\n",
      "      <td>195</td>\n",
      "      <td>Phase Transitions in the Pooled Data Problem</td>\n",
      "    </tr>\n",
      "    <tr>\n",
      "      <td>196</td>\n",
      "      <td>Revisit Fuzzy Neural Network: Demystifying Bat...</td>\n",
      "    </tr>\n",
      "    <tr>\n",
      "      <td>201</td>\n",
      "      <td>Learning Linear Dynamical Systems via Spectral...</td>\n",
      "    </tr>\n",
      "    <tr>\n",
      "      <td>203</td>\n",
      "      <td>Group Sparse Additive Machine</td>\n",
      "    </tr>\n",
      "    <tr>\n",
      "      <td>206</td>\n",
      "      <td>Mean teachers are better role models: Weight-a...</td>\n",
      "    </tr>\n",
      "    <tr>\n",
      "      <td>207</td>\n",
      "      <td>Learning from Complementary Labels</td>\n",
      "    </tr>\n",
      "    <tr>\n",
      "      <td>211</td>\n",
      "      <td>Multi-Objective Non-parametric Sequential Pred...</td>\n",
      "    </tr>\n",
      "    <tr>\n",
      "      <td>222</td>\n",
      "      <td>A Unified Approach to Interpreting Model Predi...</td>\n",
      "    </tr>\n",
      "    <tr>\n",
      "      <td>224</td>\n",
      "      <td>Generalized Linear Model Regression under Dist...</td>\n",
      "    </tr>\n",
      "    <tr>\n",
      "      <td>233</td>\n",
      "      <td>Learning Koopman Invariant Subspaces for Dynam...</td>\n",
      "    </tr>\n",
      "    <tr>\n",
      "      <td>248</td>\n",
      "      <td>Solid Harmonic Wavelet Scattering: Predicting ...</td>\n",
      "    </tr>\n",
      "    <tr>\n",
      "      <td>250</td>\n",
      "      <td>Deep Recurrent Neural Network-Based Identifica...</td>\n",
      "    </tr>\n",
      "    <tr>\n",
      "      <td>255</td>\n",
      "      <td>Learning to Model the Tail</td>\n",
      "    </tr>\n",
      "    <tr>\n",
      "      <td>267</td>\n",
      "      <td>Dynamic Routing Between Capsules</td>\n",
      "    </tr>\n",
      "    <tr>\n",
      "      <td>270</td>\n",
      "      <td>Label Distribution Learning Forests</td>\n",
      "    </tr>\n",
      "    <tr>\n",
      "      <td>274</td>\n",
      "      <td>Towards Accurate Binary Convolutional Neural N...</td>\n",
      "    </tr>\n",
      "    <tr>\n",
      "      <td>276</td>\n",
      "      <td>Structured Embedding Models for Grouped Data</td>\n",
      "    </tr>\n",
      "    <tr>\n",
      "      <td>303</td>\n",
      "      <td>Riemannian approach to batch normalization</td>\n",
      "    </tr>\n",
      "    <tr>\n",
      "      <td>308</td>\n",
      "      <td>Predicting Organic Reaction Outcomes with Weis...</td>\n",
      "    </tr>\n",
      "    <tr>\n",
      "      <td>309</td>\n",
      "      <td>Predicting Scene Parsing and Motion Dynamics i...</td>\n",
      "    </tr>\n",
      "    <tr>\n",
      "      <td>316</td>\n",
      "      <td>Extracting low-dimensional dynamics from multi...</td>\n",
      "    </tr>\n",
      "    <tr>\n",
      "      <td>319</td>\n",
      "      <td>Detrended Partial Cross Correlation for Brain ...</td>\n",
      "    </tr>\n",
      "    <tr>\n",
      "      <td>323</td>\n",
      "      <td>Learning Neural Representations of Human Cogni...</td>\n",
      "    </tr>\n",
      "    <tr>\n",
      "      <td>324</td>\n",
      "      <td>Mapping distinct timescales of functional inte...</td>\n",
      "    </tr>\n",
      "    <tr>\n",
      "      <td>326</td>\n",
      "      <td>Streaming Weak Submodularity: Interpreting Neu...</td>\n",
      "    </tr>\n",
      "    <tr>\n",
      "      <td>358</td>\n",
      "      <td>Linearly constrained Gaussian processes</td>\n",
      "    </tr>\n",
      "    <tr>\n",
      "      <td>365</td>\n",
      "      <td>Linear regression without correspondence</td>\n",
      "    </tr>\n",
      "    <tr>\n",
      "      <td>369</td>\n",
      "      <td>Eigenvalue Decay Implies Polynomial-Time Learn...</td>\n",
      "    </tr>\n",
      "    <tr>\n",
      "      <td>374</td>\n",
      "      <td>Best Response Regression</td>\n",
      "    </tr>\n",
      "    <tr>\n",
      "      <td>379</td>\n",
      "      <td>Active Bias: Training More Accurate Neural Net...</td>\n",
      "    </tr>\n",
      "    <tr>\n",
      "      <td>397</td>\n",
      "      <td>Action Centered Contextual Bandits</td>\n",
      "    </tr>\n",
      "    <tr>\n",
      "      <td>398</td>\n",
      "      <td>Conservative Contextual Linear Bandits</td>\n",
      "    </tr>\n",
      "    <tr>\n",
      "      <td>401</td>\n",
      "      <td>Multi-Task Learning for Contextual Bandits</td>\n",
      "    </tr>\n",
      "    <tr>\n",
      "      <td>406</td>\n",
      "      <td>Online Influence Maximization under Independen...</td>\n",
      "    </tr>\n",
      "    <tr>\n",
      "      <td>415</td>\n",
      "      <td>Maximizing Subset Accuracy with Recurrent Neur...</td>\n",
      "    </tr>\n",
      "    <tr>\n",
      "      <td>423</td>\n",
      "      <td>Random Permutation Online Isotonic Regression</td>\n",
      "    </tr>\n",
      "    <tr>\n",
      "      <td>424</td>\n",
      "      <td>Online Prediction with Selfish Experts</td>\n",
      "    </tr>\n",
      "    <tr>\n",
      "      <td>429</td>\n",
      "      <td>Renyi Differential Privacy Mechanisms for Post...</td>\n",
      "    </tr>\n",
      "    <tr>\n",
      "      <td>433</td>\n",
      "      <td>On Fairness and Calibration</td>\n",
      "    </tr>\n",
      "    <tr>\n",
      "      <td>436</td>\n",
      "      <td>Recycling Privileged Learning and Distribution...</td>\n",
      "    </tr>\n",
      "    <tr>\n",
      "      <td>437</td>\n",
      "      <td>From Parity to Preference-based Notions of Fai...</td>\n",
      "    </tr>\n",
      "    <tr>\n",
      "      <td>438</td>\n",
      "      <td>Beyond Parity: Fairness Objectives for Collabo...</td>\n",
      "    </tr>\n",
      "    <tr>\n",
      "      <td>442</td>\n",
      "      <td>Predicting User Activity Level In Point Proces...</td>\n",
      "    </tr>\n",
      "    <tr>\n",
      "      <td>445</td>\n",
      "      <td>A multi-agent reinforcement learning model of ...</td>\n",
      "    </tr>\n",
      "    <tr>\n",
      "      <td>447</td>\n",
      "      <td>Scalable Demand-Aware Recommendation</td>\n",
      "    </tr>\n",
      "    <tr>\n",
      "      <td>448</td>\n",
      "      <td>A Greedy Approach for Budgeted Maximum Inner P...</td>\n",
      "    </tr>\n",
      "    <tr>\n",
      "      <td>456</td>\n",
      "      <td>ExtremeWeather: A large-scale climate dataset ...</td>\n",
      "    </tr>\n",
      "    <tr>\n",
      "      <td>479</td>\n",
      "      <td>Linear Time Computation of Moments in Sum-Prod...</td>\n",
      "    </tr>\n",
      "    <tr>\n",
      "      <td>497</td>\n",
      "      <td>Targeting EEG/LFP Synchrony with Neural Nets</td>\n",
      "    </tr>\n",
      "    <tr>\n",
      "      <td>505</td>\n",
      "      <td>Unified representation of tractography and dif...</td>\n",
      "    </tr>\n",
      "    <tr>\n",
      "      <td>534</td>\n",
      "      <td>Counterfactual Fairness</td>\n",
      "    </tr>\n",
      "    <tr>\n",
      "      <td>537</td>\n",
      "      <td>Tractability in Structured Probability Spaces</td>\n",
      "    </tr>\n",
      "    <tr>\n",
      "      <td>540</td>\n",
      "      <td>Reliable Decision Support using Counterfactual...</td>\n",
      "    </tr>\n",
      "    <tr>\n",
      "      <td>552</td>\n",
      "      <td>Spectrally-normalized margin bounds for neural...</td>\n",
      "    </tr>\n",
      "    <tr>\n",
      "      <td>558</td>\n",
      "      <td>On the Consistency of Quick Shift</td>\n",
      "    </tr>\n",
      "    <tr>\n",
      "      <td>564</td>\n",
      "      <td>Revenue Optimization with Approximate Bid Pred...</td>\n",
      "    </tr>\n",
      "  </tbody>\n",
      "</table>\n"
     ]
    }
   ],
   "source": [
    "#export tables to HTML\n",
    "print(frame[['Rank', 'Title']].loc[frame['cluster'] == 1].to_html(index=False))"
   ]
  },
  {
   "cell_type": "markdown",
   "metadata": {},
   "source": [
    "# Multidimensional scaling"
   ]
  },
  {
   "cell_type": "code",
   "execution_count": 597,
   "metadata": {
    "collapsed": false
   },
   "outputs": [],
   "source": [
    "import os  # for os.path.basename\n",
    "\n",
    "import matplotlib.pyplot as plt\n",
    "import matplotlib as mpl\n",
    "\n",
    "from sklearn.manifold import MDS\n",
    "\n",
    "MDS()\n",
    "\n",
    "# two components as we're plotting points in a two-dimensional plane\n",
    "# \"precomputed\" because we provide a distance matrix\n",
    "# we will also specify `random_state` so the plot is reproducible.\n",
    "mds = MDS(n_components=2, dissimilarity=\"precomputed\", random_state=1)\n",
    "\n",
    "pos = mds.fit_transform(dist)  # shape (n_components, n_samples)\n",
    "\n",
    "xs, ys = pos[:, 0], pos[:, 1]"
   ]
  },
  {
   "cell_type": "code",
   "execution_count": 598,
   "metadata": {
    "collapsed": false
   },
   "outputs": [],
   "source": [
    "#strip any proper nouns (NNP) or plural proper nouns (NNPS) from a text\n",
    "from nltk.tag import pos_tag\n",
    "\n",
    "def strip_proppers_POS(text):\n",
    "    tagged = pos_tag(text.split()) #use NLTK's part of speech tagger\n",
    "    non_propernouns = [word for word,pos in tagged if pos != 'NNP' and pos != 'NNPS']\n",
    "    return non_propernouns"
   ]
  },
  {
   "cell_type": "markdown",
   "metadata": {},
   "source": [
    "## Visualizing document clusters"
   ]
  },
  {
   "cell_type": "code",
   "execution_count": 605,
   "metadata": {
    "collapsed": false
   },
   "outputs": [],
   "source": [
    "#set up colors per clusters using a dict\n",
    "cluster_colors = {0: '#1b9e77', 1: '#d95f02', 2: '#7570b3', 3: '#e7298a', 4: '#66a61e',\n",
    "                  5: '#e50000', 6: '#f1be2b'}\n",
    "\n",
    "#set up cluster names using a dict\n",
    "cluster_names = {0: 'generative, adversarial, image' ,\n",
    "                 1: 'regression, classification, label, predicts' , \n",
    "                 2: 'inference, approximation, representations, graphs' , \n",
    "                 3: 'optimized, gradient, descent, converge' , \n",
    "                 4: 'statistics, parameters, estimation, variables',\n",
    "                 5: 'convolutional, image, representations' ,\n",
    "                 6: 'reinforcement, policy, approximation' }\n",
    "                 "
   ]
  },
  {
   "cell_type": "code",
   "execution_count": 606,
   "metadata": {
    "collapsed": false
   },
   "outputs": [],
   "source": [
    "%matplotlib inline"
   ]
  },
  {
   "cell_type": "code",
   "execution_count": 607,
   "metadata": {
    "collapsed": false
   },
   "outputs": [
    {
     "data": {
      "image/png": "[encoded data removed]",
      "text/plain": [
       "<matplotlib.figure.Figure at 0x1a10902860>"
      ]
     },
     "metadata": {},
     "output_type": "display_data"
    }
   ],
   "source": [
    "#create data frame that has the result of the MDS plus the cluster numbers and titles\n",
    "df = pd.DataFrame(dict(x=xs, y=ys, label=clusters, title=titles)) \n",
    "\n",
    "#group by cluster\n",
    "groups = df.groupby('label')\n",
    "\n",
    "\n",
    "# set up plot\n",
    "fig, ax = plt.subplots(figsize=(17, 9)) # set size\n",
    "ax.margins(0.05) # Optional, just adds 5% padding to the autoscaling\n",
    "\n",
    "#iterate through groups to layer the plot\n",
    "#note that I use the cluster_name and cluster_color dicts with the 'name' lookup to return the appropriate color/label\n",
    "for name, group in groups:\n",
    "    ax.plot(group.x, group.y, marker='o', linestyle='', ms=12, label=cluster_names[name], color=cluster_colors[name], mec='none')\n",
    "    ax.set_aspect('auto')\n",
    "    ax.tick_params(\\\n",
    "        axis= 'x',          # changes apply to the x-axis\n",
    "        which='both',      # both major and minor ticks are affected\n",
    "        bottom='off',      # ticks along the bottom edge are off\n",
    "        top='off',         # ticks along the top edge are off\n",
    "        labelbottom='off')\n",
    "    ax.tick_params(\\\n",
    "        axis= 'y',         # changes apply to the y-axis\n",
    "        which='both',      # both major and minor ticks are affected\n",
    "        left='off',      # ticks along the bottom edge are off\n",
    "        top='off',         # ticks along the top edge are off\n",
    "        labelleft='off')\n",
    "    \n",
    "ax.legend(numpoints=1)  #show legend with only 1 point\n",
    "\n",
    "#add label in x,y position with the label as the film title\n",
    "#for i in range(len(df)):\n",
    "    #ax.text(df.ix[i]['x'], df.ix[i]['y'], df.ix[i]['title'], size=8)  \n",
    "\n",
    "    \n",
    "    \n",
    "plt.show() #show the plot\n",
    "\n",
    "#uncomment the below to save the plot if need be\n",
    "#plt.savefig('clusters_small_noaxes.png', dpi=200)"
   ]
  },
  {
   "cell_type": "code",
   "execution_count": 383,
   "metadata": {
    "collapsed": false
   },
   "outputs": [],
   "source": [
    "plt.close()"
   ]
  },
  {
   "cell_type": "markdown",
   "metadata": {},
   "source": [
    "The clustering plot looks great, but it pains my eyes to see overlapping labels. Having some experience with [D3.js](http://d3js.org/) I knew one solution would be to use a browser based/javascript interactive. Fortunately, I recently stumbled upon [mpld3](https://mpld3.github.io/) a matplotlib wrapper for D3. Mpld3 basically let's you use matplotlib syntax to create web interactives. It has a really easy, high-level API for adding tooltips on mouse hover, which is what I am interested in.\n",
    "\n",
    "It also has some nice functionality for zooming and panning. The below javascript snippet basicaly defines a custom location for where the zoom/pan toggle resides. Don't worry about it too much and you actually don't need to use it, but it helped for formatting purposes when exporting to the web later. The only thing you might want to change is the x and y attr for the position of the toolbar."
   ]
  },
  {
   "cell_type": "code",
   "execution_count": null,
   "metadata": {
    "collapsed": false
   },
   "outputs": [],
   "source": [
    "#define custom toolbar location\n",
    "class TopToolbar(mpld3.plugins.PluginBase):\n",
    "    \"\"\"Plugin for moving toolbar to top of figure\"\"\"\n",
    "\n",
    "    JAVASCRIPT = \"\"\"\n",
    "    mpld3.register_plugin(\"toptoolbar\", TopToolbar);\n",
    "    TopToolbar.prototype = Object.create(mpld3.Plugin.prototype);\n",
    "    TopToolbar.prototype.constructor = TopToolbar;\n",
    "    function TopToolbar(fig, props){\n",
    "        mpld3.Plugin.call(this, fig, props);\n",
    "    };\n",
    "\n",
    "    TopToolbar.prototype.draw = function(){\n",
    "      // the toolbar svg doesn't exist\n",
    "      // yet, so first draw it\n",
    "      this.fig.toolbar.draw();\n",
    "\n",
    "      // then change the y position to be\n",
    "      // at the top of the figure\n",
    "      this.fig.toolbar.toolbar.attr(\"x\", 150);\n",
    "      this.fig.toolbar.toolbar.attr(\"y\", 400);\n",
    "\n",
    "      // then remove the draw function,\n",
    "      // so that it is not called again\n",
    "      this.fig.toolbar.draw = function() {}\n",
    "    }\n",
    "    \"\"\"\n",
    "    def __init__(self):\n",
    "        self.dict_ = {\"type\": \"toptoolbar\"}"
   ]
  },
  {
   "cell_type": "code",
   "execution_count": null,
   "metadata": {
    "collapsed": false
   },
   "outputs": [],
   "source": [
    "#create data frame that has the result of the MDS plus the cluster numbers and titles\n",
    "df = pd.DataFrame(dict(x=xs, y=ys, label=clusters, title=titles)) \n",
    "\n",
    "#group by cluster\n",
    "groups = df.groupby('label')\n",
    "\n",
    "#define custom css to format the font and to remove the axis labeling\n",
    "css = \"\"\"\n",
    "text.mpld3-text, div.mpld3-tooltip {\n",
    "  font-family:Arial, Helvetica, sans-serif;\n",
    "}\n",
    "\n",
    "g.mpld3-xaxis, g.mpld3-yaxis {\n",
    "display: none; }\n",
    "\"\"\"\n",
    "\n",
    "# Plot \n",
    "fig, ax = plt.subplots(figsize=(14,6)) #set plot size\n",
    "ax.margins(0.03) # Optional, just adds 5% padding to the autoscaling\n",
    "\n",
    "#iterate through groups to layer the plot\n",
    "#note that I use the cluster_name and cluster_color dicts with the 'name' lookup to return the appropriate color/label\n",
    "for name, group in groups:\n",
    "    points = ax.plot(group.x, group.y, marker='o', linestyle='', ms=18, label=cluster_names[name], mec='none', color=cluster_colors[name])\n",
    "    ax.set_aspect('auto')\n",
    "    labels = [i for i in group.title]\n",
    "    \n",
    "    #set tooltip using points, labels and the already defined 'css'\n",
    "    tooltip = mpld3.plugins.PointHTMLTooltip(points[0], labels,\n",
    "                                       voffset=10, hoffset=10, css=css)\n",
    "    #connect tooltip to fig\n",
    "    mpld3.plugins.connect(fig, tooltip, TopToolbar())    \n",
    "    \n",
    "    #set tick marks as blank\n",
    "    ax.axes.get_xaxis().set_ticks([])\n",
    "    ax.axes.get_yaxis().set_ticks([])\n",
    "    \n",
    "    #set axis as blank\n",
    "    ax.axes.get_xaxis().set_visible(False)\n",
    "    ax.axes.get_yaxis().set_visible(False)\n",
    "\n",
    "    \n",
    "ax.legend(numpoints=1) #show legend with only one dot\n",
    "\n",
    "mpld3.display() #show the plot\n",
    "\n",
    "#uncomment the below to export to html\n",
    "#html = mpld3.fig_to_html(fig)\n",
    "#print(html)"
   ]
  },
  {
   "cell_type": "markdown",
   "metadata": {},
   "source": [
    "# Hierarchical document clustering"
   ]
  },
  {
   "cell_type": "code",
   "execution_count": null,
   "metadata": {
    "collapsed": false
   },
   "outputs": [],
   "source": [
    "from scipy.cluster.hierarchy import ward, dendrogram\n",
    "\n",
    "linkage_matrix = ward(dist) #define the linkage_matrix using ward clustering pre-computed distances\n",
    "\n",
    "fig, ax = plt.subplots(figsize=(15, 20)) # set size\n",
    "ax = dendrogram(linkage_matrix, orientation=\"right\", labels=titles);\n",
    "\n",
    "plt.tick_params(\\\n",
    "    axis= 'x',          # changes apply to the x-axis\n",
    "    which='both',      # both major and minor ticks are affected\n",
    "    bottom='off',      # ticks along the bottom edge are off\n",
    "    top='off',         # ticks along the top edge are off\n",
    "    labelbottom='off')\n",
    "\n",
    "plt.tight_layout() #show plot with tight layout\n",
    "\n",
    "#uncomment below to save figure\n",
    "plt.savefig('ward_clusters.png', dpi=200) #save figure as ward_clusters"
   ]
  },
  {
   "cell_type": "code",
   "execution_count": null,
   "metadata": {
    "collapsed": false
   },
   "outputs": [],
   "source": [
    "plt.close()"
   ]
  },
  {
   "cell_type": "markdown",
   "metadata": {},
   "source": [
    "# Latent Dirichlet Allocation"
   ]
  },
  {
   "cell_type": "code",
   "execution_count": null,
   "metadata": {
    "collapsed": false
   },
   "outputs": [],
   "source": [
    "#strip any proper names from a text...unfortunately right now this is yanking the first word from a sentence too.\n",
    "import string\n",
    "def strip_proppers(text):\n",
    "    # first tokenize by sentence, then by word to ensure that punctuation is caught as it's own token\n",
    "    tokens = [word for sent in nltk.sent_tokenize(text) for word in nltk.word_tokenize(sent) if word.islower()]\n",
    "    return \"\".join([\" \"+i if not i.startswith(\"'\") and i not in string.punctuation else i for i in tokens]).strip()"
   ]
  },
  {
   "cell_type": "code",
   "execution_count": null,
   "metadata": {
    "collapsed": false
   },
   "outputs": [],
   "source": [
    "#strip any proper nouns (NNP) or plural proper nouns (NNPS) from a text\n",
    "from nltk.tag import pos_tag\n",
    "\n",
    "def strip_proppers_POS(text):\n",
    "    tagged = pos_tag(text.split()) #use NLTK's part of speech tagger\n",
    "    non_propernouns = [word for word,pos in tagged if pos != 'NNP' and pos != 'NNPS']\n",
    "    return non_propernouns"
   ]
  },
  {
   "cell_type": "code",
   "execution_count": null,
   "metadata": {
    "collapsed": false
   },
   "outputs": [],
   "source": [
    "#Latent Dirichlet Allocation implementation with Gensim\n",
    "\n",
    "from gensim import corpora, models, similarities \n",
    "\n",
    "#remove proper names\n",
    "preprocess = [strip_proppers(doc) for doc in synopses]\n",
    "\n",
    "%time tokenized_text = [tokenize_and_stem(text) for text in preprocess]\n",
    "\n",
    "%time texts = [[word for word in text if word not in stopwords] for text in tokenized_text]"
   ]
  },
  {
   "cell_type": "code",
   "execution_count": null,
   "metadata": {
    "collapsed": false
   },
   "outputs": [],
   "source": [
    "#print(len([word for word in texts[0] if word not in stopwords]))\n",
    "print(len(texts[0]))"
   ]
  },
  {
   "cell_type": "code",
   "execution_count": null,
   "metadata": {
    "collapsed": false
   },
   "outputs": [],
   "source": [
    "dictionary = corpora.Dictionary(texts)"
   ]
  },
  {
   "cell_type": "code",
   "execution_count": null,
   "metadata": {
    "collapsed": false
   },
   "outputs": [],
   "source": [
    "dictionary.filter_extremes(no_below=1, no_above=0.8)"
   ]
  },
  {
   "cell_type": "code",
   "execution_count": null,
   "metadata": {
    "collapsed": false
   },
   "outputs": [],
   "source": [
    "corpus = [dictionary.doc2bow(text) for text in texts]"
   ]
  },
  {
   "cell_type": "code",
   "execution_count": null,
   "metadata": {
    "collapsed": false
   },
   "outputs": [],
   "source": [
    "len(corpus)"
   ]
  },
  {
   "cell_type": "code",
   "execution_count": null,
   "metadata": {
    "collapsed": false
   },
   "outputs": [],
   "source": [
    "%time lda = models.LdaModel(corpus, num_topics=5, id2word=dictionary, update_every=5, chunksize=10000, passes=100)"
   ]
  },
  {
   "cell_type": "code",
   "execution_count": null,
   "metadata": {
    "collapsed": false
   },
   "outputs": [],
   "source": [
    "print(lda[corpus[0]])"
   ]
  },
  {
   "cell_type": "code",
   "execution_count": null,
   "metadata": {
    "collapsed": false
   },
   "outputs": [],
   "source": [
    "topics = lda.print_topics(5, num_words=20)"
   ]
  },
  {
   "cell_type": "code",
   "execution_count": null,
   "metadata": {
    "collapsed": false
   },
   "outputs": [],
   "source": [
    "topics_matrix = lda.show_topics(formatted=False, num_words=20)"
   ]
  },
  {
   "cell_type": "code",
   "execution_count": null,
   "metadata": {
    "collapsed": false
   },
   "outputs": [],
   "source": [
    "topics_matrix = np.array(topics_matrix)"
   ]
  },
  {
   "cell_type": "code",
   "execution_count": null,
   "metadata": {
    "collapsed": false
   },
   "outputs": [],
   "source": [
    "topics_matrix.shape"
   ]
  },
  {
   "cell_type": "code",
   "execution_count": null,
   "metadata": {
    "collapsed": false
   },
   "outputs": [],
   "source": [
    "topic_words = topics_matrix[:,:,1]"
   ]
  },
  {
   "cell_type": "code",
   "execution_count": 5,
   "metadata": {
    "collapsed": false
   },
   "outputs": [
    {
     "ename": "NameError",
     "evalue": "name 'topic_words' is not defined",
     "output_type": "error",
     "traceback": [
      "\u001b[0;31m---------------------------------------------------------------------------\u001b[0m",
      "\u001b[0;31mNameError\u001b[0m                                 Traceback (most recent call last)",
      "\u001b[0;32m<ipython-input-5-615b177b94ac>\u001b[0m in \u001b[0;36m<module>\u001b[0;34m()\u001b[0m\n\u001b[0;32m----> 1\u001b[0;31m \u001b[0;32mfor\u001b[0m \u001b[0mi\u001b[0m \u001b[0;32min\u001b[0m \u001b[0mtopic_words\u001b[0m\u001b[0;34m:\u001b[0m\u001b[0;34m\u001b[0m\u001b[0m\n\u001b[0m\u001b[1;32m      2\u001b[0m     \u001b[0mprint\u001b[0m\u001b[0;34m(\u001b[0m\u001b[0;34m[\u001b[0m\u001b[0mstr\u001b[0m\u001b[0;34m(\u001b[0m\u001b[0mword\u001b[0m\u001b[0;34m)\u001b[0m \u001b[0;32mfor\u001b[0m \u001b[0mword\u001b[0m \u001b[0;32min\u001b[0m \u001b[0mi\u001b[0m\u001b[0;34m]\u001b[0m\u001b[0;34m)\u001b[0m\u001b[0;34m\u001b[0m\u001b[0m\n\u001b[1;32m      3\u001b[0m     \u001b[0mprint\u001b[0m\u001b[0;34m(\u001b[0m\u001b[0;34m)\u001b[0m\u001b[0;34m\u001b[0m\u001b[0m\n",
      "\u001b[0;31mNameError\u001b[0m: name 'topic_words' is not defined"
     ]
    }
   ],
   "source": [
    "for i in topic_words:\n",
    "    print([str(word) for word in i])\n",
    "    print()"
   ]
  },
  {
   "cell_type": "code",
   "execution_count": null,
   "metadata": {
    "collapsed": true
   },
   "outputs": [],
   "source": [
    "\"\"\"\n",
    "needed_terms = ['adversari', 'approxim', 'bayesian', 'classif', 'combin', 'converg', 'convex', \n",
    "                'convolut', 'cost', 'data', 'dataset', 'deep', 'deriv', 'descent', 'distribut', 'dynam', \n",
    "               'empir', 'error', 'estim', 'evalu', 'featur', 'gaussian', 'generat', 'gradient', \n",
    "               'imag', 'infer', 'joint', 'kernel', 'latent', 'linear', 'loss', 'match', 'minim', \n",
    "               'network', 'neural', 'neural network', 'observ', 'onli', 'optim', 'polici', 'possibl',\n",
    "               'predict', 'random', 'reduc', 'regress', 'reinforc', 'reinforc learn', 'relat', 'represent',\n",
    "               'sampl', 'statist', 'stochast', 'synthet', 'variat']\n",
    "\"\"\""
   ]
  },
  {
   "cell_type": "code",
   "execution_count": null,
   "metadata": {
    "collapsed": true
   },
   "outputs": [],
   "source": []
  },
  {
   "cell_type": "code",
   "execution_count": null,
   "metadata": {
    "collapsed": true
   },
   "outputs": [],
   "source": []
  }
 ],
 "metadata": {
  "anaconda-cloud": {},
  "kernelspec": {
   "display_name": "Python [default]",
   "language": "python",
   "name": "python3"
  },
  "language_info": {
   "codemirror_mode": {
    "name": "ipython",
    "version": 3
   },
   "file_extension": ".py",
   "mimetype": "text/x-python",
   "name": "python",
   "nbconvert_exporter": "python",
   "pygments_lexer": "ipython3",
   "version": "3.5.2"
  }
 },
 "nbformat": 4,
 "nbformat_minor": 0
}
